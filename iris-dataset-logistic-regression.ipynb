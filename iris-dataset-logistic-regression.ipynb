{
 "cells": [
  {
   "cell_type": "markdown",
   "id": "0ea97f6d",
   "metadata": {
    "papermill": {
     "duration": 0.007428,
     "end_time": "2024-04-28T14:23:56.222765",
     "exception": false,
     "start_time": "2024-04-28T14:23:56.215337",
     "status": "completed"
    },
    "tags": []
   },
   "source": [
    "# Importing the necassary Libraries"
   ]
  },
  {
   "cell_type": "code",
   "execution_count": 1,
   "id": "717bfe14",
   "metadata": {
    "execution": {
     "iopub.execute_input": "2024-04-28T14:23:56.238157Z",
     "iopub.status.busy": "2024-04-28T14:23:56.237792Z",
     "iopub.status.idle": "2024-04-28T14:23:58.510681Z",
     "shell.execute_reply": "2024-04-28T14:23:58.509658Z"
    },
    "papermill": {
     "duration": 2.283448,
     "end_time": "2024-04-28T14:23:58.513153",
     "exception": false,
     "start_time": "2024-04-28T14:23:56.229705",
     "status": "completed"
    },
    "tags": []
   },
   "outputs": [],
   "source": [
    "import pandas as pd\n",
    "import numpy as np\n",
    "import matplotlib.pyplot as plt\n",
    "import seaborn as sns\n",
    "from sklearn.linear_model import LogisticRegression\n",
    "from sklearn.model_selection import train_test_split\n",
    "from sklearn.preprocessing import LabelEncoder\n",
    "from sklearn.metrics import accuracy_score\n",
    "import warnings\n",
    "warnings.filterwarnings('ignore')"
   ]
  },
  {
   "cell_type": "markdown",
   "id": "e4c4fa08",
   "metadata": {
    "papermill": {
     "duration": 0.006878,
     "end_time": "2024-04-28T14:23:58.527298",
     "exception": false,
     "start_time": "2024-04-28T14:23:58.520420",
     "status": "completed"
    },
    "tags": []
   },
   "source": [
    "# Reading the dataset"
   ]
  },
  {
   "cell_type": "code",
   "execution_count": 2,
   "id": "9d33fe4d",
   "metadata": {
    "execution": {
     "iopub.execute_input": "2024-04-28T14:23:58.543260Z",
     "iopub.status.busy": "2024-04-28T14:23:58.542734Z",
     "iopub.status.idle": "2024-04-28T14:23:58.562267Z",
     "shell.execute_reply": "2024-04-28T14:23:58.561337Z"
    },
    "papermill": {
     "duration": 0.030428,
     "end_time": "2024-04-28T14:23:58.564789",
     "exception": false,
     "start_time": "2024-04-28T14:23:58.534361",
     "status": "completed"
    },
    "tags": []
   },
   "outputs": [],
   "source": [
    "df = pd.read_csv('iris.csv')"
   ]
  },
  {
   "cell_type": "code",
   "execution_count": 3,
   "id": "cd1c8c42",
   "metadata": {
    "execution": {
     "iopub.execute_input": "2024-04-28T14:23:58.580984Z",
     "iopub.status.busy": "2024-04-28T14:23:58.580097Z",
     "iopub.status.idle": "2024-04-28T14:23:58.610264Z",
     "shell.execute_reply": "2024-04-28T14:23:58.609359Z"
    },
    "papermill": {
     "duration": 0.040925,
     "end_time": "2024-04-28T14:23:58.612818",
     "exception": false,
     "start_time": "2024-04-28T14:23:58.571893",
     "status": "completed"
    },
    "tags": []
   },
   "outputs": [
    {
     "data": {
      "text/html": [
       "<div>\n",
       "<style scoped>\n",
       "    .dataframe tbody tr th:only-of-type {\n",
       "        vertical-align: middle;\n",
       "    }\n",
       "\n",
       "    .dataframe tbody tr th {\n",
       "        vertical-align: top;\n",
       "    }\n",
       "\n",
       "    .dataframe thead th {\n",
       "        text-align: right;\n",
       "    }\n",
       "</style>\n",
       "<table border=\"1\" class=\"dataframe\">\n",
       "  <thead>\n",
       "    <tr style=\"text-align: right;\">\n",
       "      <th></th>\n",
       "      <th>sepal_length</th>\n",
       "      <th>sepal_width</th>\n",
       "      <th>petal_length</th>\n",
       "      <th>petal_width</th>\n",
       "      <th>species</th>\n",
       "    </tr>\n",
       "  </thead>\n",
       "  <tbody>\n",
       "    <tr>\n",
       "      <th>0</th>\n",
       "      <td>5.1</td>\n",
       "      <td>3.5</td>\n",
       "      <td>1.4</td>\n",
       "      <td>0.2</td>\n",
       "      <td>Iris-setosa</td>\n",
       "    </tr>\n",
       "    <tr>\n",
       "      <th>1</th>\n",
       "      <td>4.9</td>\n",
       "      <td>3.0</td>\n",
       "      <td>1.4</td>\n",
       "      <td>0.2</td>\n",
       "      <td>Iris-setosa</td>\n",
       "    </tr>\n",
       "    <tr>\n",
       "      <th>2</th>\n",
       "      <td>4.7</td>\n",
       "      <td>3.2</td>\n",
       "      <td>1.3</td>\n",
       "      <td>0.2</td>\n",
       "      <td>Iris-setosa</td>\n",
       "    </tr>\n",
       "    <tr>\n",
       "      <th>3</th>\n",
       "      <td>4.6</td>\n",
       "      <td>3.1</td>\n",
       "      <td>1.5</td>\n",
       "      <td>0.2</td>\n",
       "      <td>Iris-setosa</td>\n",
       "    </tr>\n",
       "    <tr>\n",
       "      <th>4</th>\n",
       "      <td>5.0</td>\n",
       "      <td>3.6</td>\n",
       "      <td>1.4</td>\n",
       "      <td>0.2</td>\n",
       "      <td>Iris-setosa</td>\n",
       "    </tr>\n",
       "    <tr>\n",
       "      <th>...</th>\n",
       "      <td>...</td>\n",
       "      <td>...</td>\n",
       "      <td>...</td>\n",
       "      <td>...</td>\n",
       "      <td>...</td>\n",
       "    </tr>\n",
       "    <tr>\n",
       "      <th>145</th>\n",
       "      <td>6.7</td>\n",
       "      <td>3.0</td>\n",
       "      <td>5.2</td>\n",
       "      <td>2.3</td>\n",
       "      <td>Iris-virginica</td>\n",
       "    </tr>\n",
       "    <tr>\n",
       "      <th>146</th>\n",
       "      <td>6.3</td>\n",
       "      <td>2.5</td>\n",
       "      <td>5.0</td>\n",
       "      <td>1.9</td>\n",
       "      <td>Iris-virginica</td>\n",
       "    </tr>\n",
       "    <tr>\n",
       "      <th>147</th>\n",
       "      <td>6.5</td>\n",
       "      <td>3.0</td>\n",
       "      <td>5.2</td>\n",
       "      <td>2.0</td>\n",
       "      <td>Iris-virginica</td>\n",
       "    </tr>\n",
       "    <tr>\n",
       "      <th>148</th>\n",
       "      <td>6.2</td>\n",
       "      <td>3.4</td>\n",
       "      <td>5.4</td>\n",
       "      <td>2.3</td>\n",
       "      <td>Iris-virginica</td>\n",
       "    </tr>\n",
       "    <tr>\n",
       "      <th>149</th>\n",
       "      <td>5.9</td>\n",
       "      <td>3.0</td>\n",
       "      <td>5.1</td>\n",
       "      <td>1.8</td>\n",
       "      <td>Iris-virginica</td>\n",
       "    </tr>\n",
       "  </tbody>\n",
       "</table>\n",
       "<p>150 rows × 5 columns</p>\n",
       "</div>"
      ],
      "text/plain": [
       "     sepal_length  sepal_width  petal_length  petal_width         species\n",
       "0             5.1          3.5           1.4          0.2     Iris-setosa\n",
       "1             4.9          3.0           1.4          0.2     Iris-setosa\n",
       "2             4.7          3.2           1.3          0.2     Iris-setosa\n",
       "3             4.6          3.1           1.5          0.2     Iris-setosa\n",
       "4             5.0          3.6           1.4          0.2     Iris-setosa\n",
       "..            ...          ...           ...          ...             ...\n",
       "145           6.7          3.0           5.2          2.3  Iris-virginica\n",
       "146           6.3          2.5           5.0          1.9  Iris-virginica\n",
       "147           6.5          3.0           5.2          2.0  Iris-virginica\n",
       "148           6.2          3.4           5.4          2.3  Iris-virginica\n",
       "149           5.9          3.0           5.1          1.8  Iris-virginica\n",
       "\n",
       "[150 rows x 5 columns]"
      ]
     },
     "execution_count": 3,
     "metadata": {},
     "output_type": "execute_result"
    }
   ],
   "source": [
    "df"
   ]
  },
  {
   "cell_type": "markdown",
   "id": "464cf7df",
   "metadata": {
    "papermill": {
     "duration": 0.0072,
     "end_time": "2024-04-28T14:23:58.627374",
     "exception": false,
     "start_time": "2024-04-28T14:23:58.620174",
     "status": "completed"
    },
    "tags": []
   },
   "source": [
    "# Exploring & Preprocessing the data"
   ]
  },
  {
   "cell_type": "code",
   "execution_count": 4,
   "id": "ad3618b1",
   "metadata": {
    "execution": {
     "iopub.execute_input": "2024-04-28T14:23:58.644725Z",
     "iopub.status.busy": "2024-04-28T14:23:58.643904Z",
     "iopub.status.idle": "2024-04-28T14:23:58.653660Z",
     "shell.execute_reply": "2024-04-28T14:23:58.652570Z"
    },
    "papermill": {
     "duration": 0.02123,
     "end_time": "2024-04-28T14:23:58.655784",
     "exception": false,
     "start_time": "2024-04-28T14:23:58.634554",
     "status": "completed"
    },
    "tags": []
   },
   "outputs": [
    {
     "data": {
      "text/plain": [
       "sepal_length    0\n",
       "sepal_width     0\n",
       "petal_length    0\n",
       "petal_width     0\n",
       "species         0\n",
       "dtype: int64"
      ]
     },
     "execution_count": 4,
     "metadata": {},
     "output_type": "execute_result"
    }
   ],
   "source": [
    "df.isna().sum()"
   ]
  },
  {
   "cell_type": "code",
   "execution_count": 5,
   "id": "ea8189ab",
   "metadata": {
    "execution": {
     "iopub.execute_input": "2024-04-28T14:23:58.672876Z",
     "iopub.status.busy": "2024-04-28T14:23:58.671912Z",
     "iopub.status.idle": "2024-04-28T14:23:58.683504Z",
     "shell.execute_reply": "2024-04-28T14:23:58.682523Z"
    },
    "papermill": {
     "duration": 0.022389,
     "end_time": "2024-04-28T14:23:58.685671",
     "exception": false,
     "start_time": "2024-04-28T14:23:58.663282",
     "status": "completed"
    },
    "tags": []
   },
   "outputs": [
    {
     "data": {
      "text/plain": [
       "3"
      ]
     },
     "execution_count": 5,
     "metadata": {},
     "output_type": "execute_result"
    }
   ],
   "source": [
    "df.duplicated().sum()"
   ]
  },
  {
   "cell_type": "code",
   "execution_count": 6,
   "id": "3f2e172a",
   "metadata": {
    "execution": {
     "iopub.execute_input": "2024-04-28T14:23:58.702582Z",
     "iopub.status.busy": "2024-04-28T14:23:58.702169Z",
     "iopub.status.idle": "2024-04-28T14:23:58.718785Z",
     "shell.execute_reply": "2024-04-28T14:23:58.717596Z"
    },
    "papermill": {
     "duration": 0.027474,
     "end_time": "2024-04-28T14:23:58.720911",
     "exception": false,
     "start_time": "2024-04-28T14:23:58.693437",
     "status": "completed"
    },
    "tags": []
   },
   "outputs": [
    {
     "name": "stdout",
     "output_type": "stream",
     "text": [
      "<class 'pandas.core.frame.DataFrame'>\n",
      "RangeIndex: 150 entries, 0 to 149\n",
      "Data columns (total 5 columns):\n",
      " #   Column        Non-Null Count  Dtype  \n",
      "---  ------        --------------  -----  \n",
      " 0   sepal_length  150 non-null    float64\n",
      " 1   sepal_width   150 non-null    float64\n",
      " 2   petal_length  150 non-null    float64\n",
      " 3   petal_width   150 non-null    float64\n",
      " 4   species       150 non-null    object \n",
      "dtypes: float64(4), object(1)\n",
      "memory usage: 6.0+ KB\n"
     ]
    }
   ],
   "source": [
    "df.info()"
   ]
  },
  {
   "cell_type": "code",
   "execution_count": 7,
   "id": "908f6cb3",
   "metadata": {
    "execution": {
     "iopub.execute_input": "2024-04-28T14:23:58.738615Z",
     "iopub.status.busy": "2024-04-28T14:23:58.737683Z",
     "iopub.status.idle": "2024-04-28T14:23:58.759323Z",
     "shell.execute_reply": "2024-04-28T14:23:58.758210Z"
    },
    "papermill": {
     "duration": 0.032756,
     "end_time": "2024-04-28T14:23:58.761432",
     "exception": false,
     "start_time": "2024-04-28T14:23:58.728676",
     "status": "completed"
    },
    "tags": []
   },
   "outputs": [
    {
     "data": {
      "text/html": [
       "<div>\n",
       "<style scoped>\n",
       "    .dataframe tbody tr th:only-of-type {\n",
       "        vertical-align: middle;\n",
       "    }\n",
       "\n",
       "    .dataframe tbody tr th {\n",
       "        vertical-align: top;\n",
       "    }\n",
       "\n",
       "    .dataframe thead th {\n",
       "        text-align: right;\n",
       "    }\n",
       "</style>\n",
       "<table border=\"1\" class=\"dataframe\">\n",
       "  <thead>\n",
       "    <tr style=\"text-align: right;\">\n",
       "      <th></th>\n",
       "      <th>sepal_length</th>\n",
       "      <th>sepal_width</th>\n",
       "      <th>petal_length</th>\n",
       "      <th>petal_width</th>\n",
       "    </tr>\n",
       "  </thead>\n",
       "  <tbody>\n",
       "    <tr>\n",
       "      <th>count</th>\n",
       "      <td>150.000000</td>\n",
       "      <td>150.000000</td>\n",
       "      <td>150.000000</td>\n",
       "      <td>150.000000</td>\n",
       "    </tr>\n",
       "    <tr>\n",
       "      <th>mean</th>\n",
       "      <td>5.843333</td>\n",
       "      <td>3.054000</td>\n",
       "      <td>3.758667</td>\n",
       "      <td>1.198667</td>\n",
       "    </tr>\n",
       "    <tr>\n",
       "      <th>std</th>\n",
       "      <td>0.828066</td>\n",
       "      <td>0.433594</td>\n",
       "      <td>1.764420</td>\n",
       "      <td>0.763161</td>\n",
       "    </tr>\n",
       "    <tr>\n",
       "      <th>min</th>\n",
       "      <td>4.300000</td>\n",
       "      <td>2.000000</td>\n",
       "      <td>1.000000</td>\n",
       "      <td>0.100000</td>\n",
       "    </tr>\n",
       "    <tr>\n",
       "      <th>25%</th>\n",
       "      <td>5.100000</td>\n",
       "      <td>2.800000</td>\n",
       "      <td>1.600000</td>\n",
       "      <td>0.300000</td>\n",
       "    </tr>\n",
       "    <tr>\n",
       "      <th>50%</th>\n",
       "      <td>5.800000</td>\n",
       "      <td>3.000000</td>\n",
       "      <td>4.350000</td>\n",
       "      <td>1.300000</td>\n",
       "    </tr>\n",
       "    <tr>\n",
       "      <th>75%</th>\n",
       "      <td>6.400000</td>\n",
       "      <td>3.300000</td>\n",
       "      <td>5.100000</td>\n",
       "      <td>1.800000</td>\n",
       "    </tr>\n",
       "    <tr>\n",
       "      <th>max</th>\n",
       "      <td>7.900000</td>\n",
       "      <td>4.400000</td>\n",
       "      <td>6.900000</td>\n",
       "      <td>2.500000</td>\n",
       "    </tr>\n",
       "  </tbody>\n",
       "</table>\n",
       "</div>"
      ],
      "text/plain": [
       "       sepal_length  sepal_width  petal_length  petal_width\n",
       "count    150.000000   150.000000    150.000000   150.000000\n",
       "mean       5.843333     3.054000      3.758667     1.198667\n",
       "std        0.828066     0.433594      1.764420     0.763161\n",
       "min        4.300000     2.000000      1.000000     0.100000\n",
       "25%        5.100000     2.800000      1.600000     0.300000\n",
       "50%        5.800000     3.000000      4.350000     1.300000\n",
       "75%        6.400000     3.300000      5.100000     1.800000\n",
       "max        7.900000     4.400000      6.900000     2.500000"
      ]
     },
     "execution_count": 7,
     "metadata": {},
     "output_type": "execute_result"
    }
   ],
   "source": [
    "df.describe()"
   ]
  },
  {
   "cell_type": "code",
   "execution_count": 8,
   "id": "08afce5d",
   "metadata": {
    "execution": {
     "iopub.execute_input": "2024-04-28T14:23:58.779140Z",
     "iopub.status.busy": "2024-04-28T14:23:58.778388Z",
     "iopub.status.idle": "2024-04-28T14:23:58.784681Z",
     "shell.execute_reply": "2024-04-28T14:23:58.783516Z"
    },
    "papermill": {
     "duration": 0.017669,
     "end_time": "2024-04-28T14:23:58.787005",
     "exception": false,
     "start_time": "2024-04-28T14:23:58.769336",
     "status": "completed"
    },
    "tags": []
   },
   "outputs": [],
   "source": [
    "df.drop_duplicates(inplace=True)"
   ]
  },
  {
   "cell_type": "code",
   "execution_count": 9,
   "id": "31a60540",
   "metadata": {
    "execution": {
     "iopub.execute_input": "2024-04-28T14:23:58.806252Z",
     "iopub.status.busy": "2024-04-28T14:23:58.805397Z",
     "iopub.status.idle": "2024-04-28T14:23:58.821533Z",
     "shell.execute_reply": "2024-04-28T14:23:58.820360Z"
    },
    "papermill": {
     "duration": 0.027318,
     "end_time": "2024-04-28T14:23:58.823698",
     "exception": false,
     "start_time": "2024-04-28T14:23:58.796380",
     "status": "completed"
    },
    "tags": []
   },
   "outputs": [
    {
     "data": {
      "text/html": [
       "<div>\n",
       "<style scoped>\n",
       "    .dataframe tbody tr th:only-of-type {\n",
       "        vertical-align: middle;\n",
       "    }\n",
       "\n",
       "    .dataframe tbody tr th {\n",
       "        vertical-align: top;\n",
       "    }\n",
       "\n",
       "    .dataframe thead th {\n",
       "        text-align: right;\n",
       "    }\n",
       "</style>\n",
       "<table border=\"1\" class=\"dataframe\">\n",
       "  <thead>\n",
       "    <tr style=\"text-align: right;\">\n",
       "      <th></th>\n",
       "      <th>sepal_length</th>\n",
       "      <th>sepal_width</th>\n",
       "      <th>petal_length</th>\n",
       "      <th>petal_width</th>\n",
       "      <th>species</th>\n",
       "    </tr>\n",
       "  </thead>\n",
       "  <tbody>\n",
       "    <tr>\n",
       "      <th>0</th>\n",
       "      <td>5.1</td>\n",
       "      <td>3.5</td>\n",
       "      <td>1.4</td>\n",
       "      <td>0.2</td>\n",
       "      <td>Iris-setosa</td>\n",
       "    </tr>\n",
       "    <tr>\n",
       "      <th>1</th>\n",
       "      <td>4.9</td>\n",
       "      <td>3.0</td>\n",
       "      <td>1.4</td>\n",
       "      <td>0.2</td>\n",
       "      <td>Iris-setosa</td>\n",
       "    </tr>\n",
       "    <tr>\n",
       "      <th>2</th>\n",
       "      <td>4.7</td>\n",
       "      <td>3.2</td>\n",
       "      <td>1.3</td>\n",
       "      <td>0.2</td>\n",
       "      <td>Iris-setosa</td>\n",
       "    </tr>\n",
       "    <tr>\n",
       "      <th>3</th>\n",
       "      <td>4.6</td>\n",
       "      <td>3.1</td>\n",
       "      <td>1.5</td>\n",
       "      <td>0.2</td>\n",
       "      <td>Iris-setosa</td>\n",
       "    </tr>\n",
       "    <tr>\n",
       "      <th>4</th>\n",
       "      <td>5.0</td>\n",
       "      <td>3.6</td>\n",
       "      <td>1.4</td>\n",
       "      <td>0.2</td>\n",
       "      <td>Iris-setosa</td>\n",
       "    </tr>\n",
       "    <tr>\n",
       "      <th>...</th>\n",
       "      <td>...</td>\n",
       "      <td>...</td>\n",
       "      <td>...</td>\n",
       "      <td>...</td>\n",
       "      <td>...</td>\n",
       "    </tr>\n",
       "    <tr>\n",
       "      <th>145</th>\n",
       "      <td>6.7</td>\n",
       "      <td>3.0</td>\n",
       "      <td>5.2</td>\n",
       "      <td>2.3</td>\n",
       "      <td>Iris-virginica</td>\n",
       "    </tr>\n",
       "    <tr>\n",
       "      <th>146</th>\n",
       "      <td>6.3</td>\n",
       "      <td>2.5</td>\n",
       "      <td>5.0</td>\n",
       "      <td>1.9</td>\n",
       "      <td>Iris-virginica</td>\n",
       "    </tr>\n",
       "    <tr>\n",
       "      <th>147</th>\n",
       "      <td>6.5</td>\n",
       "      <td>3.0</td>\n",
       "      <td>5.2</td>\n",
       "      <td>2.0</td>\n",
       "      <td>Iris-virginica</td>\n",
       "    </tr>\n",
       "    <tr>\n",
       "      <th>148</th>\n",
       "      <td>6.2</td>\n",
       "      <td>3.4</td>\n",
       "      <td>5.4</td>\n",
       "      <td>2.3</td>\n",
       "      <td>Iris-virginica</td>\n",
       "    </tr>\n",
       "    <tr>\n",
       "      <th>149</th>\n",
       "      <td>5.9</td>\n",
       "      <td>3.0</td>\n",
       "      <td>5.1</td>\n",
       "      <td>1.8</td>\n",
       "      <td>Iris-virginica</td>\n",
       "    </tr>\n",
       "  </tbody>\n",
       "</table>\n",
       "<p>147 rows × 5 columns</p>\n",
       "</div>"
      ],
      "text/plain": [
       "     sepal_length  sepal_width  petal_length  petal_width         species\n",
       "0             5.1          3.5           1.4          0.2     Iris-setosa\n",
       "1             4.9          3.0           1.4          0.2     Iris-setosa\n",
       "2             4.7          3.2           1.3          0.2     Iris-setosa\n",
       "3             4.6          3.1           1.5          0.2     Iris-setosa\n",
       "4             5.0          3.6           1.4          0.2     Iris-setosa\n",
       "..            ...          ...           ...          ...             ...\n",
       "145           6.7          3.0           5.2          2.3  Iris-virginica\n",
       "146           6.3          2.5           5.0          1.9  Iris-virginica\n",
       "147           6.5          3.0           5.2          2.0  Iris-virginica\n",
       "148           6.2          3.4           5.4          2.3  Iris-virginica\n",
       "149           5.9          3.0           5.1          1.8  Iris-virginica\n",
       "\n",
       "[147 rows x 5 columns]"
      ]
     },
     "execution_count": 9,
     "metadata": {},
     "output_type": "execute_result"
    }
   ],
   "source": [
    "df"
   ]
  },
  {
   "cell_type": "markdown",
   "id": "0d1a834d",
   "metadata": {
    "papermill": {
     "duration": 0.00775,
     "end_time": "2024-04-28T14:23:58.839705",
     "exception": false,
     "start_time": "2024-04-28T14:23:58.831955",
     "status": "completed"
    },
    "tags": []
   },
   "source": [
    "# Analysis & Visualization"
   ]
  },
  {
   "cell_type": "code",
   "execution_count": 10,
   "id": "f45533d2",
   "metadata": {
    "execution": {
     "iopub.execute_input": "2024-04-28T14:23:58.858272Z",
     "iopub.status.busy": "2024-04-28T14:23:58.857862Z",
     "iopub.status.idle": "2024-04-28T14:23:58.865912Z",
     "shell.execute_reply": "2024-04-28T14:23:58.864952Z"
    },
    "papermill": {
     "duration": 0.019627,
     "end_time": "2024-04-28T14:23:58.867884",
     "exception": false,
     "start_time": "2024-04-28T14:23:58.848257",
     "status": "completed"
    },
    "tags": []
   },
   "outputs": [
    {
     "data": {
      "text/plain": [
       "species\n",
       "Iris-versicolor    50\n",
       "Iris-virginica     49\n",
       "Iris-setosa        48\n",
       "Name: count, dtype: int64"
      ]
     },
     "execution_count": 10,
     "metadata": {},
     "output_type": "execute_result"
    }
   ],
   "source": [
    "df['species'].value_counts()"
   ]
  },
  {
   "cell_type": "code",
   "execution_count": 11,
   "id": "1609b637",
   "metadata": {
    "execution": {
     "iopub.execute_input": "2024-04-28T14:23:58.886037Z",
     "iopub.status.busy": "2024-04-28T14:23:58.885649Z",
     "iopub.status.idle": "2024-04-28T14:23:59.783490Z",
     "shell.execute_reply": "2024-04-28T14:23:59.782469Z"
    },
    "papermill": {
     "duration": 0.910052,
     "end_time": "2024-04-28T14:23:59.786295",
     "exception": false,
     "start_time": "2024-04-28T14:23:58.876243",
     "status": "completed"
    },
    "tags": []
   },
   "outputs": [
    {
     "data": {
      "image/png": "[encoded data removed]",
      "text/plain": [
       "<Figure size 643x500 with 1 Axes>"
      ]
     },
     "metadata": {},
     "output_type": "display_data"
    }
   ],
   "source": [
    "sns.lmplot(\n",
    "    x=\"sepal_length\",\n",
    "    y=\"sepal_width\",\n",
    "    hue=\"species\",\n",
    "    data=df\n",
    ")\n",
    "\n",
    "plt.title(\"Sepal Length VS Sepal Width\")\n",
    "plt.show()"
   ]
  },
  {
   "cell_type": "code",
   "execution_count": 12,
   "id": "f1349953",
   "metadata": {
    "execution": {
     "iopub.execute_input": "2024-04-28T14:23:59.806902Z",
     "iopub.status.busy": "2024-04-28T14:23:59.806524Z",
     "iopub.status.idle": "2024-04-28T14:24:00.643203Z",
     "shell.execute_reply": "2024-04-28T14:24:00.642094Z"
    },
    "papermill": {
     "duration": 0.85,
     "end_time": "2024-04-28T14:24:00.645932",
     "exception": false,
     "start_time": "2024-04-28T14:23:59.795932",
     "status": "completed"
    },
    "tags": []
   },
   "outputs": [
    {
     "data": {
      "image/png": "[encoded data removed]",
      "text/plain": [
       "<Figure size 643x500 with 1 Axes>"
      ]
     },
     "metadata": {},
     "output_type": "display_data"
    }
   ],
   "source": [
    "sns.lmplot(\n",
    "    x=\"petal_length\",\n",
    "    y=\"petal_width\",\n",
    "    hue=\"species\",\n",
    "    data=df\n",
    ")\n",
    "\n",
    "plt.title(\"Petal Length VS Petal Width\")\n",
    "plt.show()"
   ]
  },
  {
   "cell_type": "markdown",
   "id": "5a158b0d",
   "metadata": {
    "papermill": {
     "duration": 0.009926,
     "end_time": "2024-04-28T14:24:00.666047",
     "exception": false,
     "start_time": "2024-04-28T14:24:00.656121",
     "status": "completed"
    },
    "tags": []
   },
   "source": [
    "# Spliting the data"
   ]
  },
  {
   "cell_type": "code",
   "execution_count": 13,
   "id": "ce9bdce8",
   "metadata": {
    "execution": {
     "iopub.execute_input": "2024-04-28T14:24:00.687791Z",
     "iopub.status.busy": "2024-04-28T14:24:00.687409Z",
     "iopub.status.idle": "2024-04-28T14:24:00.692775Z",
     "shell.execute_reply": "2024-04-28T14:24:00.691731Z"
    },
    "papermill": {
     "duration": 0.018984,
     "end_time": "2024-04-28T14:24:00.695057",
     "exception": false,
     "start_time": "2024-04-28T14:24:00.676073",
     "status": "completed"
    },
    "tags": []
   },
   "outputs": [],
   "source": [
    "label_encoder = LabelEncoder()\n",
    "df['species'] = label_encoder.fit_transform(df['species'])"
   ]
  },
  {
   "cell_type": "code",
   "execution_count": 14,
   "id": "a7b46be1",
   "metadata": {
    "execution": {
     "iopub.execute_input": "2024-04-28T14:24:00.718050Z",
     "iopub.status.busy": "2024-04-28T14:24:00.717111Z",
     "iopub.status.idle": "2024-04-28T14:24:00.732449Z",
     "shell.execute_reply": "2024-04-28T14:24:00.731490Z"
    },
    "papermill": {
     "duration": 0.029284,
     "end_time": "2024-04-28T14:24:00.734675",
     "exception": false,
     "start_time": "2024-04-28T14:24:00.705391",
     "status": "completed"
    },
    "tags": []
   },
   "outputs": [
    {
     "data": {
      "text/html": [
       "<div>\n",
       "<style scoped>\n",
       "    .dataframe tbody tr th:only-of-type {\n",
       "        vertical-align: middle;\n",
       "    }\n",
       "\n",
       "    .dataframe tbody tr th {\n",
       "        vertical-align: top;\n",
       "    }\n",
       "\n",
       "    .dataframe thead th {\n",
       "        text-align: right;\n",
       "    }\n",
       "</style>\n",
       "<table border=\"1\" class=\"dataframe\">\n",
       "  <thead>\n",
       "    <tr style=\"text-align: right;\">\n",
       "      <th></th>\n",
       "      <th>sepal_length</th>\n",
       "      <th>sepal_width</th>\n",
       "      <th>petal_length</th>\n",
       "      <th>petal_width</th>\n",
       "      <th>species</th>\n",
       "    </tr>\n",
       "  </thead>\n",
       "  <tbody>\n",
       "    <tr>\n",
       "      <th>0</th>\n",
       "      <td>5.1</td>\n",
       "      <td>3.5</td>\n",
       "      <td>1.4</td>\n",
       "      <td>0.2</td>\n",
       "      <td>0</td>\n",
       "    </tr>\n",
       "    <tr>\n",
       "      <th>1</th>\n",
       "      <td>4.9</td>\n",
       "      <td>3.0</td>\n",
       "      <td>1.4</td>\n",
       "      <td>0.2</td>\n",
       "      <td>0</td>\n",
       "    </tr>\n",
       "    <tr>\n",
       "      <th>2</th>\n",
       "      <td>4.7</td>\n",
       "      <td>3.2</td>\n",
       "      <td>1.3</td>\n",
       "      <td>0.2</td>\n",
       "      <td>0</td>\n",
       "    </tr>\n",
       "    <tr>\n",
       "      <th>3</th>\n",
       "      <td>4.6</td>\n",
       "      <td>3.1</td>\n",
       "      <td>1.5</td>\n",
       "      <td>0.2</td>\n",
       "      <td>0</td>\n",
       "    </tr>\n",
       "    <tr>\n",
       "      <th>4</th>\n",
       "      <td>5.0</td>\n",
       "      <td>3.6</td>\n",
       "      <td>1.4</td>\n",
       "      <td>0.2</td>\n",
       "      <td>0</td>\n",
       "    </tr>\n",
       "    <tr>\n",
       "      <th>...</th>\n",
       "      <td>...</td>\n",
       "      <td>...</td>\n",
       "      <td>...</td>\n",
       "      <td>...</td>\n",
       "      <td>...</td>\n",
       "    </tr>\n",
       "    <tr>\n",
       "      <th>145</th>\n",
       "      <td>6.7</td>\n",
       "      <td>3.0</td>\n",
       "      <td>5.2</td>\n",
       "      <td>2.3</td>\n",
       "      <td>2</td>\n",
       "    </tr>\n",
       "    <tr>\n",
       "      <th>146</th>\n",
       "      <td>6.3</td>\n",
       "      <td>2.5</td>\n",
       "      <td>5.0</td>\n",
       "      <td>1.9</td>\n",
       "      <td>2</td>\n",
       "    </tr>\n",
       "    <tr>\n",
       "      <th>147</th>\n",
       "      <td>6.5</td>\n",
       "      <td>3.0</td>\n",
       "      <td>5.2</td>\n",
       "      <td>2.0</td>\n",
       "      <td>2</td>\n",
       "    </tr>\n",
       "    <tr>\n",
       "      <th>148</th>\n",
       "      <td>6.2</td>\n",
       "      <td>3.4</td>\n",
       "      <td>5.4</td>\n",
       "      <td>2.3</td>\n",
       "      <td>2</td>\n",
       "    </tr>\n",
       "    <tr>\n",
       "      <th>149</th>\n",
       "      <td>5.9</td>\n",
       "      <td>3.0</td>\n",
       "      <td>5.1</td>\n",
       "      <td>1.8</td>\n",
       "      <td>2</td>\n",
       "    </tr>\n",
       "  </tbody>\n",
       "</table>\n",
       "<p>147 rows × 5 columns</p>\n",
       "</div>"
      ],
      "text/plain": [
       "     sepal_length  sepal_width  petal_length  petal_width  species\n",
       "0             5.1          3.5           1.4          0.2        0\n",
       "1             4.9          3.0           1.4          0.2        0\n",
       "2             4.7          3.2           1.3          0.2        0\n",
       "3             4.6          3.1           1.5          0.2        0\n",
       "4             5.0          3.6           1.4          0.2        0\n",
       "..            ...          ...           ...          ...      ...\n",
       "145           6.7          3.0           5.2          2.3        2\n",
       "146           6.3          2.5           5.0          1.9        2\n",
       "147           6.5          3.0           5.2          2.0        2\n",
       "148           6.2          3.4           5.4          2.3        2\n",
       "149           5.9          3.0           5.1          1.8        2\n",
       "\n",
       "[147 rows x 5 columns]"
      ]
     },
     "execution_count": 14,
     "metadata": {},
     "output_type": "execute_result"
    }
   ],
   "source": [
    "df"
   ]
  },
  {
   "cell_type": "code",
   "execution_count": 15,
   "id": "c11fd799",
   "metadata": {
    "execution": {
     "iopub.execute_input": "2024-04-28T14:24:00.756715Z",
     "iopub.status.busy": "2024-04-28T14:24:00.756353Z",
     "iopub.status.idle": "2024-04-28T14:24:00.761898Z",
     "shell.execute_reply": "2024-04-28T14:24:00.760949Z"
    },
    "papermill": {
     "duration": 0.018979,
     "end_time": "2024-04-28T14:24:00.763915",
     "exception": false,
     "start_time": "2024-04-28T14:24:00.744936",
     "status": "completed"
    },
    "tags": []
   },
   "outputs": [],
   "source": [
    "x = df.drop(columns='species')\n",
    "y = df.species"
   ]
  },
  {
   "cell_type": "code",
   "execution_count": 16,
   "id": "cf15abb8",
   "metadata": {
    "execution": {
     "iopub.execute_input": "2024-04-28T14:24:00.786264Z",
     "iopub.status.busy": "2024-04-28T14:24:00.785837Z",
     "iopub.status.idle": "2024-04-28T14:24:00.802906Z",
     "shell.execute_reply": "2024-04-28T14:24:00.801838Z"
    },
    "papermill": {
     "duration": 0.030724,
     "end_time": "2024-04-28T14:24:00.805041",
     "exception": false,
     "start_time": "2024-04-28T14:24:00.774317",
     "status": "completed"
    },
    "tags": []
   },
   "outputs": [
    {
     "data": {
      "text/html": [
       "<div>\n",
       "<style scoped>\n",
       "    .dataframe tbody tr th:only-of-type {\n",
       "        vertical-align: middle;\n",
       "    }\n",
       "\n",
       "    .dataframe tbody tr th {\n",
       "        vertical-align: top;\n",
       "    }\n",
       "\n",
       "    .dataframe thead th {\n",
       "        text-align: right;\n",
       "    }\n",
       "</style>\n",
       "<table border=\"1\" class=\"dataframe\">\n",
       "  <thead>\n",
       "    <tr style=\"text-align: right;\">\n",
       "      <th></th>\n",
       "      <th>sepal_length</th>\n",
       "      <th>sepal_width</th>\n",
       "      <th>petal_length</th>\n",
       "      <th>petal_width</th>\n",
       "    </tr>\n",
       "  </thead>\n",
       "  <tbody>\n",
       "    <tr>\n",
       "      <th>0</th>\n",
       "      <td>5.1</td>\n",
       "      <td>3.5</td>\n",
       "      <td>1.4</td>\n",
       "      <td>0.2</td>\n",
       "    </tr>\n",
       "    <tr>\n",
       "      <th>1</th>\n",
       "      <td>4.9</td>\n",
       "      <td>3.0</td>\n",
       "      <td>1.4</td>\n",
       "      <td>0.2</td>\n",
       "    </tr>\n",
       "    <tr>\n",
       "      <th>2</th>\n",
       "      <td>4.7</td>\n",
       "      <td>3.2</td>\n",
       "      <td>1.3</td>\n",
       "      <td>0.2</td>\n",
       "    </tr>\n",
       "    <tr>\n",
       "      <th>3</th>\n",
       "      <td>4.6</td>\n",
       "      <td>3.1</td>\n",
       "      <td>1.5</td>\n",
       "      <td>0.2</td>\n",
       "    </tr>\n",
       "    <tr>\n",
       "      <th>4</th>\n",
       "      <td>5.0</td>\n",
       "      <td>3.6</td>\n",
       "      <td>1.4</td>\n",
       "      <td>0.2</td>\n",
       "    </tr>\n",
       "    <tr>\n",
       "      <th>...</th>\n",
       "      <td>...</td>\n",
       "      <td>...</td>\n",
       "      <td>...</td>\n",
       "      <td>...</td>\n",
       "    </tr>\n",
       "    <tr>\n",
       "      <th>145</th>\n",
       "      <td>6.7</td>\n",
       "      <td>3.0</td>\n",
       "      <td>5.2</td>\n",
       "      <td>2.3</td>\n",
       "    </tr>\n",
       "    <tr>\n",
       "      <th>146</th>\n",
       "      <td>6.3</td>\n",
       "      <td>2.5</td>\n",
       "      <td>5.0</td>\n",
       "      <td>1.9</td>\n",
       "    </tr>\n",
       "    <tr>\n",
       "      <th>147</th>\n",
       "      <td>6.5</td>\n",
       "      <td>3.0</td>\n",
       "      <td>5.2</td>\n",
       "      <td>2.0</td>\n",
       "    </tr>\n",
       "    <tr>\n",
       "      <th>148</th>\n",
       "      <td>6.2</td>\n",
       "      <td>3.4</td>\n",
       "      <td>5.4</td>\n",
       "      <td>2.3</td>\n",
       "    </tr>\n",
       "    <tr>\n",
       "      <th>149</th>\n",
       "      <td>5.9</td>\n",
       "      <td>3.0</td>\n",
       "      <td>5.1</td>\n",
       "      <td>1.8</td>\n",
       "    </tr>\n",
       "  </tbody>\n",
       "</table>\n",
       "<p>147 rows × 4 columns</p>\n",
       "</div>"
      ],
      "text/plain": [
       "     sepal_length  sepal_width  petal_length  petal_width\n",
       "0             5.1          3.5           1.4          0.2\n",
       "1             4.9          3.0           1.4          0.2\n",
       "2             4.7          3.2           1.3          0.2\n",
       "3             4.6          3.1           1.5          0.2\n",
       "4             5.0          3.6           1.4          0.2\n",
       "..            ...          ...           ...          ...\n",
       "145           6.7          3.0           5.2          2.3\n",
       "146           6.3          2.5           5.0          1.9\n",
       "147           6.5          3.0           5.2          2.0\n",
       "148           6.2          3.4           5.4          2.3\n",
       "149           5.9          3.0           5.1          1.8\n",
       "\n",
       "[147 rows x 4 columns]"
      ]
     },
     "execution_count": 16,
     "metadata": {},
     "output_type": "execute_result"
    }
   ],
   "source": [
    "x"
   ]
  },
  {
   "cell_type": "code",
   "execution_count": 17,
   "id": "53c5e50c",
   "metadata": {
    "execution": {
     "iopub.execute_input": "2024-04-28T14:24:00.827924Z",
     "iopub.status.busy": "2024-04-28T14:24:00.827546Z",
     "iopub.status.idle": "2024-04-28T14:24:00.834860Z",
     "shell.execute_reply": "2024-04-28T14:24:00.833910Z"
    },
    "papermill": {
     "duration": 0.021355,
     "end_time": "2024-04-28T14:24:00.837021",
     "exception": false,
     "start_time": "2024-04-28T14:24:00.815666",
     "status": "completed"
    },
    "tags": []
   },
   "outputs": [
    {
     "data": {
      "text/plain": [
       "0      0\n",
       "1      0\n",
       "2      0\n",
       "3      0\n",
       "4      0\n",
       "      ..\n",
       "145    2\n",
       "146    2\n",
       "147    2\n",
       "148    2\n",
       "149    2\n",
       "Name: species, Length: 147, dtype: int64"
      ]
     },
     "execution_count": 17,
     "metadata": {},
     "output_type": "execute_result"
    }
   ],
   "source": [
    "y"
   ]
  },
  {
   "cell_type": "code",
   "execution_count": 18,
   "id": "ed81ea9b",
   "metadata": {
    "execution": {
     "iopub.execute_input": "2024-04-28T14:24:00.859889Z",
     "iopub.status.busy": "2024-04-28T14:24:00.859512Z",
     "iopub.status.idle": "2024-04-28T14:24:00.867487Z",
     "shell.execute_reply": "2024-04-28T14:24:00.866441Z"
    },
    "papermill": {
     "duration": 0.021734,
     "end_time": "2024-04-28T14:24:00.869530",
     "exception": false,
     "start_time": "2024-04-28T14:24:00.847796",
     "status": "completed"
    },
    "tags": []
   },
   "outputs": [],
   "source": [
    "X_train, x_test, Y_train, y_test = train_test_split(x, y, test_size=0.2, random_state=12)"
   ]
  },
  {
   "cell_type": "markdown",
   "id": "bb00745e",
   "metadata": {
    "papermill": {
     "duration": 0.010275,
     "end_time": "2024-04-28T14:24:00.890654",
     "exception": false,
     "start_time": "2024-04-28T14:24:00.880379",
     "status": "completed"
    },
    "tags": []
   },
   "source": [
    "# Load Logistic Regression Model"
   ]
  },
  {
   "cell_type": "code",
   "execution_count": 19,
   "id": "dc4d9d97",
   "metadata": {
    "execution": {
     "iopub.execute_input": "2024-04-28T14:24:00.913176Z",
     "iopub.status.busy": "2024-04-28T14:24:00.912806Z",
     "iopub.status.idle": "2024-04-28T14:24:00.917123Z",
     "shell.execute_reply": "2024-04-28T14:24:00.916267Z"
    },
    "papermill": {
     "duration": 0.018131,
     "end_time": "2024-04-28T14:24:00.919252",
     "exception": false,
     "start_time": "2024-04-28T14:24:00.901121",
     "status": "completed"
    },
    "tags": []
   },
   "outputs": [],
   "source": [
    "model = LogisticRegression()"
   ]
  },
  {
   "cell_type": "code",
   "execution_count": 20,
   "id": "d9d65b8e",
   "metadata": {
    "execution": {
     "iopub.execute_input": "2024-04-28T14:24:00.941922Z",
     "iopub.status.busy": "2024-04-28T14:24:00.941543Z",
     "iopub.status.idle": "2024-04-28T14:24:00.975875Z",
     "shell.execute_reply": "2024-04-28T14:24:00.974854Z"
    },
    "papermill": {
     "duration": 0.048119,
     "end_time": "2024-04-28T14:24:00.978042",
     "exception": false,
     "start_time": "2024-04-28T14:24:00.929923",
     "status": "completed"
    },
    "tags": []
   },
   "outputs": [
    {
     "data": {
      "text/html": [
       "<style>#sk-container-id-1 {color: black;background-color: white;}#sk-container-id-1 pre{padding: 0;}#sk-container-id-1 div.sk-toggleable {background-color: white;}#sk-container-id-1 label.sk-toggleable__label {cursor: pointer;display: block;width: 100%;margin-bottom: 0;padding: 0.3em;box-sizing: border-box;text-align: center;}#sk-container-id-1 label.sk-toggleable__label-arrow:before {content: \"▸\";float: left;margin-right: 0.25em;color: #696969;}#sk-container-id-1 label.sk-toggleable__label-arrow:hover:before {color: black;}#sk-container-id-1 div.sk-estimator:hover label.sk-toggleable__label-arrow:before {color: black;}#sk-container-id-1 div.sk-toggleable__content {max-height: 0;max-width: 0;overflow: hidden;text-align: left;background-color: #f0f8ff;}#sk-container-id-1 div.sk-toggleable__content pre {margin: 0.2em;color: black;border-radius: 0.25em;background-color: #f0f8ff;}#sk-container-id-1 input.sk-toggleable__control:checked~div.sk-toggleable__content {max-height: 200px;max-width: 100%;overflow: auto;}#sk-container-id-1 input.sk-toggleable__control:checked~label.sk-toggleable__label-arrow:before {content: \"▾\";}#sk-container-id-1 div.sk-estimator input.sk-toggleable__control:checked~label.sk-toggleable__label {background-color: #d4ebff;}#sk-container-id-1 div.sk-label input.sk-toggleable__control:checked~label.sk-toggleable__label {background-color: #d4ebff;}#sk-container-id-1 input.sk-hidden--visually {border: 0;clip: rect(1px 1px 1px 1px);clip: rect(1px, 1px, 1px, 1px);height: 1px;margin: -1px;overflow: hidden;padding: 0;position: absolute;width: 1px;}#sk-container-id-1 div.sk-estimator {font-family: monospace;background-color: #f0f8ff;border: 1px dotted black;border-radius: 0.25em;box-sizing: border-box;margin-bottom: 0.5em;}#sk-container-id-1 div.sk-estimator:hover {background-color: #d4ebff;}#sk-container-id-1 div.sk-parallel-item::after {content: \"\";width: 100%;border-bottom: 1px solid gray;flex-grow: 1;}#sk-container-id-1 div.sk-label:hover label.sk-toggleable__label {background-color: #d4ebff;}#sk-container-id-1 div.sk-serial::before {content: \"\";position: absolute;border-left: 1px solid gray;box-sizing: border-box;top: 0;bottom: 0;left: 50%;z-index: 0;}#sk-container-id-1 div.sk-serial {display: flex;flex-direction: column;align-items: center;background-color: white;padding-right: 0.2em;padding-left: 0.2em;position: relative;}#sk-container-id-1 div.sk-item {position: relative;z-index: 1;}#sk-container-id-1 div.sk-parallel {display: flex;align-items: stretch;justify-content: center;background-color: white;position: relative;}#sk-container-id-1 div.sk-item::before, #sk-container-id-1 div.sk-parallel-item::before {content: \"\";position: absolute;border-left: 1px solid gray;box-sizing: border-box;top: 0;bottom: 0;left: 50%;z-index: -1;}#sk-container-id-1 div.sk-parallel-item {display: flex;flex-direction: column;z-index: 1;position: relative;background-color: white;}#sk-container-id-1 div.sk-parallel-item:first-child::after {align-self: flex-end;width: 50%;}#sk-container-id-1 div.sk-parallel-item:last-child::after {align-self: flex-start;width: 50%;}#sk-container-id-1 div.sk-parallel-item:only-child::after {width: 0;}#sk-container-id-1 div.sk-dashed-wrapped {border: 1px dashed gray;margin: 0 0.4em 0.5em 0.4em;box-sizing: border-box;padding-bottom: 0.4em;background-color: white;}#sk-container-id-1 div.sk-label label {font-family: monospace;font-weight: bold;display: inline-block;line-height: 1.2em;}#sk-container-id-1 div.sk-label-container {text-align: center;}#sk-container-id-1 div.sk-container {/* jupyter's `normalize.less` sets `[hidden] { display: none; }` but bootstrap.min.css set `[hidden] { display: none !important; }` so we also need the `!important` here to be able to override the default hidden behavior on the sphinx rendered scikit-learn.org. See: https://github.com/scikit-learn/scikit-learn/issues/21755 */display: inline-block !important;position: relative;}#sk-container-id-1 div.sk-text-repr-fallback {display: none;}</style><div id=\"sk-container-id-1\" class=\"sk-top-container\"><div class=\"sk-text-repr-fallback\"><pre>LogisticRegression()</pre><b>In a Jupyter environment, please rerun this cell to show the HTML representation or trust the notebook. <br />On GitHub, the HTML representation is unable to render, please try loading this page with nbviewer.org.</b></div><div class=\"sk-container\" hidden><div class=\"sk-item\"><div class=\"sk-estimator sk-toggleable\"><input class=\"sk-toggleable__control sk-hidden--visually\" id=\"sk-estimator-id-1\" type=\"checkbox\" checked><label for=\"sk-estimator-id-1\" class=\"sk-toggleable__label sk-toggleable__label-arrow\">LogisticRegression</label><div class=\"sk-toggleable__content\"><pre>LogisticRegression()</pre></div></div></div></div></div>"
      ],
      "text/plain": [
       "LogisticRegression()"
      ]
     },
     "execution_count": 20,
     "metadata": {},
     "output_type": "execute_result"
    }
   ],
   "source": [
    "model.fit(X_train, Y_train)"
   ]
  },
  {
   "cell_type": "code",
   "execution_count": 21,
   "id": "16e6e6e8",
   "metadata": {
    "execution": {
     "iopub.execute_input": "2024-04-28T14:24:01.002182Z",
     "iopub.status.busy": "2024-04-28T14:24:01.001239Z",
     "iopub.status.idle": "2024-04-28T14:24:01.010476Z",
     "shell.execute_reply": "2024-04-28T14:24:01.009398Z"
    },
    "papermill": {
     "duration": 0.023455,
     "end_time": "2024-04-28T14:24:01.012549",
     "exception": false,
     "start_time": "2024-04-28T14:24:00.989094",
     "status": "completed"
    },
    "tags": []
   },
   "outputs": [
    {
     "data": {
      "text/plain": [
       "1.0"
      ]
     },
     "execution_count": 21,
     "metadata": {},
     "output_type": "execute_result"
    }
   ],
   "source": [
    "model.score(x_test, y_test)"
   ]
  },
  {
   "cell_type": "code",
   "execution_count": 22,
   "id": "cf58bc91",
   "metadata": {
    "execution": {
     "iopub.execute_input": "2024-04-28T14:24:01.036573Z",
     "iopub.status.busy": "2024-04-28T14:24:01.035689Z",
     "iopub.status.idle": "2024-04-28T14:24:01.044764Z",
     "shell.execute_reply": "2024-04-28T14:24:01.043790Z"
    },
    "papermill": {
     "duration": 0.02319,
     "end_time": "2024-04-28T14:24:01.046846",
     "exception": false,
     "start_time": "2024-04-28T14:24:01.023656",
     "status": "completed"
    },
    "tags": []
   },
   "outputs": [
    {
     "data": {
      "text/plain": [
       "0.9658119658119658"
      ]
     },
     "execution_count": 22,
     "metadata": {},
     "output_type": "execute_result"
    }
   ],
   "source": [
    "model.score(X_train, Y_train)"
   ]
  },
  {
   "cell_type": "code",
   "execution_count": 23,
   "id": "d5fb50d4",
   "metadata": {
    "execution": {
     "iopub.execute_input": "2024-04-28T14:24:01.072020Z",
     "iopub.status.busy": "2024-04-28T14:24:01.071375Z",
     "iopub.status.idle": "2024-04-28T14:24:01.078480Z",
     "shell.execute_reply": "2024-04-28T14:24:01.077447Z"
    },
    "papermill": {
     "duration": 0.022094,
     "end_time": "2024-04-28T14:24:01.080659",
     "exception": false,
     "start_time": "2024-04-28T14:24:01.058565",
     "status": "completed"
    },
    "tags": []
   },
   "outputs": [
    {
     "data": {
      "text/plain": [
       "array([0])"
      ]
     },
     "execution_count": 23,
     "metadata": {},
     "output_type": "execute_result"
    }
   ],
   "source": [
    "model.predict([[5.1,3.5,1.4,0.2]])"
   ]
  },
  {
   "cell_type": "code",
   "execution_count": 24,
   "id": "939f72d1",
   "metadata": {
    "execution": {
     "iopub.execute_input": "2024-04-28T14:24:01.105522Z",
     "iopub.status.busy": "2024-04-28T14:24:01.104644Z",
     "iopub.status.idle": "2024-04-28T14:24:01.110685Z",
     "shell.execute_reply": "2024-04-28T14:24:01.109702Z"
    },
    "papermill": {
     "duration": 0.020517,
     "end_time": "2024-04-28T14:24:01.112661",
     "exception": false,
     "start_time": "2024-04-28T14:24:01.092144",
     "status": "completed"
    },
    "tags": []
   },
   "outputs": [],
   "source": [
    "y_predicted = model.predict(x_test)"
   ]
  },
  {
   "cell_type": "code",
   "execution_count": 25,
   "id": "2ba37c1d",
   "metadata": {
    "execution": {
     "iopub.execute_input": "2024-04-28T14:24:01.137458Z",
     "iopub.status.busy": "2024-04-28T14:24:01.136777Z",
     "iopub.status.idle": "2024-04-28T14:24:01.143174Z",
     "shell.execute_reply": "2024-04-28T14:24:01.142230Z"
    },
    "papermill": {
     "duration": 0.021243,
     "end_time": "2024-04-28T14:24:01.145350",
     "exception": false,
     "start_time": "2024-04-28T14:24:01.124107",
     "status": "completed"
    },
    "tags": []
   },
   "outputs": [
    {
     "data": {
      "text/plain": [
       "array([2, 1, 1, 1, 0, 0, 1, 0, 2, 2, 0, 2, 0, 2, 1, 2, 2, 0, 1, 1, 0, 2,\n",
       "       1, 0, 2, 0, 0, 2, 2, 0])"
      ]
     },
     "execution_count": 25,
     "metadata": {},
     "output_type": "execute_result"
    }
   ],
   "source": [
    "y_predicted"
   ]
  },
  {
   "cell_type": "code",
   "execution_count": 26,
   "id": "89e66693",
   "metadata": {
    "execution": {
     "iopub.execute_input": "2024-04-28T14:24:01.169667Z",
     "iopub.status.busy": "2024-04-28T14:24:01.169294Z",
     "iopub.status.idle": "2024-04-28T14:24:01.177765Z",
     "shell.execute_reply": "2024-04-28T14:24:01.176806Z"
    },
    "papermill": {
     "duration": 0.022795,
     "end_time": "2024-04-28T14:24:01.179668",
     "exception": false,
     "start_time": "2024-04-28T14:24:01.156873",
     "status": "completed"
    },
    "tags": []
   },
   "outputs": [
    {
     "data": {
      "text/plain": [
       "array([[11,  0,  0],\n",
       "       [ 0,  8,  0],\n",
       "       [ 0,  0, 11]])"
      ]
     },
     "execution_count": 26,
     "metadata": {},
     "output_type": "execute_result"
    }
   ],
   "source": [
    "from sklearn.metrics import confusion_matrix\n",
    "cm = confusion_matrix(y_test, y_predicted) # compare between predicted values, actual values \n",
    "cm"
   ]
  },
  {
   "cell_type": "code",
   "execution_count": 27,
   "id": "a508e3dc",
   "metadata": {
    "execution": {
     "iopub.execute_input": "2024-04-28T14:24:01.203978Z",
     "iopub.status.busy": "2024-04-28T14:24:01.203617Z",
     "iopub.status.idle": "2024-04-28T14:24:01.520394Z",
     "shell.execute_reply": "2024-04-28T14:24:01.519363Z"
    },
    "papermill": {
     "duration": 0.331607,
     "end_time": "2024-04-28T14:24:01.522760",
     "exception": false,
     "start_time": "2024-04-28T14:24:01.191153",
     "status": "completed"
    },
    "tags": []
   },
   "outputs": [
    {
     "data": {
      "text/plain": [
       "Text(95.72222222222221, 0.5, 'Truth')"
      ]
     },
     "execution_count": 27,
     "metadata": {},
     "output_type": "execute_result"
    },
    {
     "data": {
      "image/png": "[encoded data removed]",
      "text/plain": [
       "<Figure size 1000x700 with 2 Axes>"
      ]
     },
     "metadata": {},
     "output_type": "display_data"
    }
   ],
   "source": [
    "import seaborn as sn\n",
    "plt.figure(figsize = (10,7))\n",
    "sn.heatmap(cm, annot = True)\n",
    "plt.xlabel('Predicted')\n",
    "plt.ylabel('Truth')"
   ]
  }
 ],
 "metadata": {
  "kaggle": {
   "accelerator": "none",
   "dataSources": [
    {
     "datasetId": 17860,
     "sourceId": 23404,
     "sourceType": "datasetVersion"
    }
   ],
   "dockerImageVersionId": 30698,
   "isGpuEnabled": false,
   "isInternetEnabled": true,
   "language": "python",
   "sourceType": "notebook"
  },
  "kernelspec": {
   "display_name": "Python 3 (ipykernel)",
   "language": "python",
   "name": "python3"
  },
  "language_info": {
   "codemirror_mode": {
    "name": "ipython",
    "version": 3
   },
   "file_extension": ".py",
   "mimetype": "text/x-python",
   "name": "python",
   "nbconvert_exporter": "python",
   "pygments_lexer": "ipython3",
   "version": "3.11.4"
  },
  "papermill": {
   "default_parameters": {},
   "duration": 8.519621,
   "end_time": "2024-04-28T14:24:02.155634",
   "environment_variables": {},
   "exception": null,
   "input_path": "__notebook__.ipynb",
   "output_path": "__notebook__.ipynb",
   "parameters": {},
   "start_time": "2024-04-28T14:23:53.636013",
   "version": "2.5.0"
  }
 },
 "nbformat": 4,
 "nbformat_minor": 5
}
